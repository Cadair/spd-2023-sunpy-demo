{
 "cells": [
  {
   "cell_type": "markdown",
   "metadata": {
    "tags": []
   },
   "source": [
    "# Multi-instrument analysis with the SunPy Ecosystem\n",
    "\n",
    "- AIA\n",
    "- EUI\n",
    "- SPICE\n",
    "- DKIST\n",
    "\n",
    "Bonus:\n",
    "- IRIS (?)\n",
    "- EIS (?)\n",
    "\n",
    "The affiliated packages we will use are:\n",
    "\n",
    "- `sunpy`\n",
    "- `sunpy-soar`\n",
    "- `dkist`\n",
    "- `sunraster`\n",
    "\n",
    "The interesting science question we will answer is...\n",
    "\n",
    "- Observations from chromosphere (dkist) to TR (SPICE) to corona (AIA, EUI)\n",
    "- How can additional FOV constraints tell us more about what DKIST is seeing?"
   ]
  },
  {
   "cell_type": "code",
   "execution_count": 19,
   "metadata": {
    "tags": []
   },
   "outputs": [],
   "source": [
    "from sunpy.net import Fido, attrs as attrs\n",
    "import dkist.net\n",
    "import sunpy_soar\n",
    "import astropy.units as u\n",
    "\n",
    "from sunpy.coordinates import get_earth, get_horizons_coord"
   ]
  },
  {
   "cell_type": "markdown",
   "metadata": {},
   "source": [
    "## Searching for and Downloading Data with `Fido`"
   ]
  },
  {
   "cell_type": "markdown",
   "metadata": {},
   "source": []
  },
  {
   "cell_type": "markdown",
   "metadata": {},
   "source": [
    "### SDO"
   ]
  },
  {
   "cell_type": "code",
   "execution_count": 5,
   "metadata": {
    "tags": []
   },
   "outputs": [],
   "source": [
    "time_range = attrs.Time(\"2022-10-24T18:30\", \"2022-10-24T22:20\")"
   ]
  },
  {
   "cell_type": "code",
   "execution_count": 15,
   "metadata": {
    "tags": []
   },
   "outputs": [],
   "source": [
    "aia_query = time_range & attrs.Instrument.aia & attrs.Wavelength(171*u.Angstrom)"
   ]
  },
  {
   "cell_type": "code",
   "execution_count": 17,
   "metadata": {
    "tags": []
   },
   "outputs": [],
   "source": [
    "q = Fido.search(\n",
    "    dkist_query\n",
    ")"
   ]
  },
  {
   "cell_type": "code",
   "execution_count": 18,
   "metadata": {
    "tags": []
   },
   "outputs": [
    {
     "data": {
      "text/html": [
       "Results from 1 Provider:</br></br>2 Results from the DKISTClient:</br><div><i>DKISTQueryResponseTable length=2</i>\n",
       "<table id=\"table5637047952\" class=\"table-striped table-bordered table-condensed\">\n",
       "<thead><tr><th>Start Time</th><th>End Time</th><th>Instrument</th><th>Wavelength</th><th>Bounding Box</th><th>Dataset ID</th><th>Dataset Size</th><th>Exposure Time</th><th>Primary Experiment ID</th><th>Primary Proposal ID</th><th>Stokes Parameters</th><th>Target Types</th><th>Number of Frames</th><th>Average Fried Parameter</th><th>Embargoed</th><th>Downloadable</th><th>Has Spectral Axis</th><th>Has Temporal Axis</th><th>Average Spectral Sampling</th><th>Average Spatial Sampling</th><th>Average Temporal Sampling</th></tr></thead>\n",
       "<thead><tr><th></th><th></th><th></th><th>nm</th><th></th><th></th><th>Gibyte</th><th>s</th><th></th><th></th><th></th><th></th><th></th><th></th><th></th><th></th><th></th><th></th><th>nm</th><th>arcsec</th><th>s</th></tr></thead>\n",
       "<thead><tr><th>Time</th><th>Time</th><th>str4</th><th>float64[2]</th><th>str32</th><th>str5</th><th>float64</th><th>float64</th><th>str9</th><th>str9</th><th>str4</th><th>str7[1]</th><th>int64</th><th>float64</th><th>bool</th><th>bool</th><th>bool</th><th>bool</th><th>float64</th><th>float64</th><th>float64</th></tr></thead>\n",
       "<tr><td>2022-10-24T19:47:14.651</td><td>2022-10-24T20:39:08.319</td><td>VISP</td><td>630.2424776472172 .. 631.826964866207</td><td>(233.36,-368.86),(202.9,-503.94)</td><td>BEOGN</td><td>8.0</td><td>48.00811267605634</td><td>eid_1_123</td><td>pid_1_123</td><td>IQUV</td><td>unknown</td><td>4000</td><td>6.396623914771764</td><td>False</td><td>True</td><td>True</td><td>True</td><td>0.00162511509639976</td><td>0.04160701928854328</td><td>1556.8341594999983</td></tr>\n",
       "<tr><td>2022-10-24T18:57:45.634</td><td>2022-10-24T19:33:26.865</td><td>VISP</td><td>630.2424776472172 .. 631.826964866207</td><td>(233.36,-368.87),(212.1,-503.97)</td><td>BKEWK</td><td>5.0</td><td>48.00811267605634</td><td>eid_1_123</td><td>pid_1_123</td><td>IQUV</td><td>unknown</td><td>2752</td><td>0.11445240041497136</td><td>False</td><td>True</td><td>True</td><td>True</td><td>0.00162511509639976</td><td>0.04160701928854328</td><td>1070.6156795058157</td></tr>\n",
       "</table></div></br>"
      ],
      "text/plain": [
       "<sunpy.net.fido_factory.UnifiedResponse object at 0x14fe78150>\n",
       "Results from 1 Provider:\n",
       "\n",
       "2 Results from the DKISTClient:\n",
       "\n",
       "       Start Time               End Time        Instrument ... Average Spectral Sampling Average Spatial Sampling Average Temporal Sampling\n",
       "                                                           ...             nm                     arcsec                      s            \n",
       "----------------------- ----------------------- ---------- ... ------------------------- ------------------------ -------------------------\n",
       "2022-10-24T19:47:14.651 2022-10-24T20:39:08.319       VISP ...       0.00162511509639976      0.04160701928854328        1556.8341594999983\n",
       "2022-10-24T18:57:45.634 2022-10-24T19:33:26.865       VISP ...       0.00162511509639976      0.04160701928854328        1070.6156795058157\n"
      ]
     },
     "execution_count": 18,
     "metadata": {},
     "output_type": "execute_result"
    }
   ],
   "source": [
    "q"
   ]
  },
  {
   "cell_type": "markdown",
   "metadata": {},
   "source": [
    "### Solar Orbiter"
   ]
  },
  {
   "cell_type": "code",
   "execution_count": null,
   "metadata": {},
   "outputs": [],
   "source": [
    "eui_query = time_range & attrs.soar.Product('EUI-HRIEUV174-IMAGE') & attrs.Level(2)\n",
    "spice_query = time_range & attrs.soar.Product('SPICE-N-RAS') & attrs.Level(2)"
   ]
  },
  {
   "cell_type": "markdown",
   "metadata": {},
   "source": [
    "### DKIST"
   ]
  },
  {
   "cell_type": "code",
   "execution_count": null,
   "metadata": {},
   "outputs": [],
   "source": [
    "dkist_query = time_range & attrs.Instrument('VISP')"
   ]
  }
 ],
 "metadata": {
  "kernelspec": {
   "display_name": "Python [conda env:spd-2023-sunpy-demo]",
   "language": "python",
   "name": "conda-env-spd-2023-sunpy-demo-py"
  },
  "language_info": {
   "codemirror_mode": {
    "name": "ipython",
    "version": 3
   },
   "file_extension": ".py",
   "mimetype": "text/x-python",
   "name": "python",
   "nbconvert_exporter": "python",
   "pygments_lexer": "ipython3",
   "version": "3.11.4"
  }
 },
 "nbformat": 4,
 "nbformat_minor": 4
}
