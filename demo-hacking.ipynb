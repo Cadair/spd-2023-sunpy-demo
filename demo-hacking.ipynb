{
 "cells": [
  {
   "cell_type": "markdown",
   "metadata": {
    "tags": []
   },
   "source": [
    "# Multi-instrument analysis with the SunPy Ecosystem\n",
    "\n",
    "- AIA\n",
    "- EUI\n",
    "- SPICE\n",
    "- DKIST\n",
    "\n",
    "Bonus:\n",
    "- IRIS (?)\n",
    "- EIS (?)\n",
    "\n",
    "The affiliated packages we will use are:\n",
    "\n",
    "- `sunpy`\n",
    "- `sunpy-soar`\n",
    "- `dkist`\n",
    "- `sunraster`\n",
    "\n",
    "The interesting science question we will answer is...\n",
    "\n",
    "- Observations from chromosphere (dkist) to TR (SPICE) to corona (AIA, EUI)\n",
    "- How can additional FOV constraints tell us more about what DKIST is seeing?"
   ]
  },
  {
   "cell_type": "code",
   "execution_count": 50,
   "metadata": {
    "tags": []
   },
   "outputs": [
    {
     "ename": "ContextualVersionConflict",
     "evalue": "(matplotlib 3.7.2 (/Users/wtbarnes/mambaforge/envs/spd-2023-sunpy-demo/lib/python3.11/site-packages), Requirement.parse('matplotlib==3.5.3'), {'solarmach'})",
     "output_type": "error",
     "traceback": [
      "\u001b[0;31m---------------------------------------------------------------------------\u001b[0m",
      "\u001b[0;31mContextualVersionConflict\u001b[0m                 Traceback (most recent call last)",
      "Cell \u001b[0;32mIn[50], line 5\u001b[0m\n\u001b[1;32m      3\u001b[0m \u001b[38;5;28;01mimport\u001b[39;00m \u001b[38;5;21;01msunpy_soar\u001b[39;00m\n\u001b[1;32m      4\u001b[0m \u001b[38;5;28;01mimport\u001b[39;00m \u001b[38;5;21;01mastropy\u001b[39;00m\u001b[38;5;21;01m.\u001b[39;00m\u001b[38;5;21;01munits\u001b[39;00m \u001b[38;5;28;01mas\u001b[39;00m \u001b[38;5;21;01mu\u001b[39;00m\n\u001b[0;32m----> 5\u001b[0m \u001b[38;5;28;01mimport\u001b[39;00m \u001b[38;5;21;01msolarmach\u001b[39;00m\n\u001b[1;32m      7\u001b[0m \u001b[38;5;28;01mfrom\u001b[39;00m \u001b[38;5;21;01msunpy\u001b[39;00m\u001b[38;5;21;01m.\u001b[39;00m\u001b[38;5;21;01mcoordinates\u001b[39;00m \u001b[38;5;28;01mimport\u001b[39;00m get_earth, get_horizons_coord\n",
      "File \u001b[0;32m~/mambaforge/envs/spd-2023-sunpy-demo/lib/python3.11/site-packages/solarmach/__init__.py:5\u001b[0m\n\u001b[1;32m      3\u001b[0m \u001b[38;5;28;01mfrom\u001b[39;00m \u001b[38;5;21;01mpkg_resources\u001b[39;00m \u001b[38;5;28;01mimport\u001b[39;00m get_distribution, DistributionNotFound\n\u001b[1;32m      4\u001b[0m \u001b[38;5;28;01mtry\u001b[39;00m:\n\u001b[0;32m----> 5\u001b[0m     __version__ \u001b[38;5;241m=\u001b[39m \u001b[43mget_distribution\u001b[49m\u001b[43m(\u001b[49m\u001b[38;5;18;43m__name__\u001b[39;49m\u001b[43m)\u001b[49m\u001b[38;5;241m.\u001b[39mversion\n\u001b[1;32m      6\u001b[0m \u001b[38;5;28;01mexcept\u001b[39;00m DistributionNotFound:\n\u001b[1;32m      7\u001b[0m     \u001b[38;5;28;01mpass\u001b[39;00m  \u001b[38;5;66;03m# package is not installed\u001b[39;00m\n",
      "File \u001b[0;32m~/mambaforge/envs/spd-2023-sunpy-demo/lib/python3.11/site-packages/pkg_resources/__init__.py:528\u001b[0m, in \u001b[0;36mget_distribution\u001b[0;34m(dist)\u001b[0m\n\u001b[1;32m    526\u001b[0m     dist \u001b[38;5;241m=\u001b[39m Requirement\u001b[38;5;241m.\u001b[39mparse(dist)\n\u001b[1;32m    527\u001b[0m \u001b[38;5;28;01mif\u001b[39;00m \u001b[38;5;28misinstance\u001b[39m(dist, Requirement):\n\u001b[0;32m--> 528\u001b[0m     dist \u001b[38;5;241m=\u001b[39m \u001b[43mget_provider\u001b[49m\u001b[43m(\u001b[49m\u001b[43mdist\u001b[49m\u001b[43m)\u001b[49m\n\u001b[1;32m    529\u001b[0m \u001b[38;5;28;01mif\u001b[39;00m \u001b[38;5;129;01mnot\u001b[39;00m \u001b[38;5;28misinstance\u001b[39m(dist, Distribution):\n\u001b[1;32m    530\u001b[0m     \u001b[38;5;28;01mraise\u001b[39;00m \u001b[38;5;167;01mTypeError\u001b[39;00m(\u001b[38;5;124m\"\u001b[39m\u001b[38;5;124mExpected string, Requirement, or Distribution\u001b[39m\u001b[38;5;124m\"\u001b[39m, dist)\n",
      "File \u001b[0;32m~/mambaforge/envs/spd-2023-sunpy-demo/lib/python3.11/site-packages/pkg_resources/__init__.py:400\u001b[0m, in \u001b[0;36mget_provider\u001b[0;34m(moduleOrReq)\u001b[0m\n\u001b[1;32m    398\u001b[0m \u001b[38;5;250m\u001b[39m\u001b[38;5;124;03m\"\"\"Return an IResourceProvider for the named module or requirement\"\"\"\u001b[39;00m\n\u001b[1;32m    399\u001b[0m \u001b[38;5;28;01mif\u001b[39;00m \u001b[38;5;28misinstance\u001b[39m(moduleOrReq, Requirement):\n\u001b[0;32m--> 400\u001b[0m     \u001b[38;5;28;01mreturn\u001b[39;00m working_set\u001b[38;5;241m.\u001b[39mfind(moduleOrReq) \u001b[38;5;129;01mor\u001b[39;00m \u001b[43mrequire\u001b[49m\u001b[43m(\u001b[49m\u001b[38;5;28;43mstr\u001b[39;49m\u001b[43m(\u001b[49m\u001b[43mmoduleOrReq\u001b[49m\u001b[43m)\u001b[49m\u001b[43m)\u001b[49m[\u001b[38;5;241m0\u001b[39m]\n\u001b[1;32m    401\u001b[0m \u001b[38;5;28;01mtry\u001b[39;00m:\n\u001b[1;32m    402\u001b[0m     module \u001b[38;5;241m=\u001b[39m sys\u001b[38;5;241m.\u001b[39mmodules[moduleOrReq]\n",
      "File \u001b[0;32m~/mambaforge/envs/spd-2023-sunpy-demo/lib/python3.11/site-packages/pkg_resources/__init__.py:968\u001b[0m, in \u001b[0;36mWorkingSet.require\u001b[0;34m(self, *requirements)\u001b[0m\n\u001b[1;32m    959\u001b[0m \u001b[38;5;28;01mdef\u001b[39;00m \u001b[38;5;21mrequire\u001b[39m(\u001b[38;5;28mself\u001b[39m, \u001b[38;5;241m*\u001b[39mrequirements):\n\u001b[1;32m    960\u001b[0m \u001b[38;5;250m    \u001b[39m\u001b[38;5;124;03m\"\"\"Ensure that distributions matching `requirements` are activated\u001b[39;00m\n\u001b[1;32m    961\u001b[0m \n\u001b[1;32m    962\u001b[0m \u001b[38;5;124;03m    `requirements` must be a string or a (possibly-nested) sequence\u001b[39;00m\n\u001b[0;32m   (...)\u001b[0m\n\u001b[1;32m    966\u001b[0m \u001b[38;5;124;03m    included, even if they were already activated in this working set.\u001b[39;00m\n\u001b[1;32m    967\u001b[0m \u001b[38;5;124;03m    \"\"\"\u001b[39;00m\n\u001b[0;32m--> 968\u001b[0m     needed \u001b[38;5;241m=\u001b[39m \u001b[38;5;28;43mself\u001b[39;49m\u001b[38;5;241;43m.\u001b[39;49m\u001b[43mresolve\u001b[49m\u001b[43m(\u001b[49m\u001b[43mparse_requirements\u001b[49m\u001b[43m(\u001b[49m\u001b[43mrequirements\u001b[49m\u001b[43m)\u001b[49m\u001b[43m)\u001b[49m\n\u001b[1;32m    970\u001b[0m     \u001b[38;5;28;01mfor\u001b[39;00m dist \u001b[38;5;129;01min\u001b[39;00m needed:\n\u001b[1;32m    971\u001b[0m         \u001b[38;5;28mself\u001b[39m\u001b[38;5;241m.\u001b[39madd(dist)\n",
      "File \u001b[0;32m~/mambaforge/envs/spd-2023-sunpy-demo/lib/python3.11/site-packages/pkg_resources/__init__.py:829\u001b[0m, in \u001b[0;36mWorkingSet.resolve\u001b[0;34m(self, requirements, env, installer, replace_conflicting, extras)\u001b[0m\n\u001b[1;32m    826\u001b[0m \u001b[38;5;28;01mif\u001b[39;00m \u001b[38;5;129;01mnot\u001b[39;00m req_extras\u001b[38;5;241m.\u001b[39mmarkers_pass(req, extras):\n\u001b[1;32m    827\u001b[0m     \u001b[38;5;28;01mcontinue\u001b[39;00m\n\u001b[0;32m--> 829\u001b[0m dist \u001b[38;5;241m=\u001b[39m \u001b[38;5;28;43mself\u001b[39;49m\u001b[38;5;241;43m.\u001b[39;49m\u001b[43m_resolve_dist\u001b[49m\u001b[43m(\u001b[49m\n\u001b[1;32m    830\u001b[0m \u001b[43m    \u001b[49m\u001b[43mreq\u001b[49m\u001b[43m,\u001b[49m\u001b[43m \u001b[49m\u001b[43mbest\u001b[49m\u001b[43m,\u001b[49m\u001b[43m \u001b[49m\u001b[43mreplace_conflicting\u001b[49m\u001b[43m,\u001b[49m\u001b[43m \u001b[49m\u001b[43menv\u001b[49m\u001b[43m,\u001b[49m\u001b[43m \u001b[49m\u001b[43minstaller\u001b[49m\u001b[43m,\u001b[49m\u001b[43m \u001b[49m\u001b[43mrequired_by\u001b[49m\u001b[43m,\u001b[49m\u001b[43m \u001b[49m\u001b[43mto_activate\u001b[49m\n\u001b[1;32m    831\u001b[0m \u001b[43m\u001b[49m\u001b[43m)\u001b[49m\n\u001b[1;32m    833\u001b[0m \u001b[38;5;66;03m# push the new requirements onto the stack\u001b[39;00m\n\u001b[1;32m    834\u001b[0m new_requirements \u001b[38;5;241m=\u001b[39m dist\u001b[38;5;241m.\u001b[39mrequires(req\u001b[38;5;241m.\u001b[39mextras)[::\u001b[38;5;241m-\u001b[39m\u001b[38;5;241m1\u001b[39m]\n",
      "File \u001b[0;32m~/mambaforge/envs/spd-2023-sunpy-demo/lib/python3.11/site-packages/pkg_resources/__init__.py:875\u001b[0m, in \u001b[0;36mWorkingSet._resolve_dist\u001b[0;34m(self, req, best, replace_conflicting, env, installer, required_by, to_activate)\u001b[0m\n\u001b[1;32m    872\u001b[0m \u001b[38;5;28;01mif\u001b[39;00m dist \u001b[38;5;129;01mnot\u001b[39;00m \u001b[38;5;129;01min\u001b[39;00m req:\n\u001b[1;32m    873\u001b[0m     \u001b[38;5;66;03m# Oops, the \"best\" so far conflicts with a dependency\u001b[39;00m\n\u001b[1;32m    874\u001b[0m     dependent_req \u001b[38;5;241m=\u001b[39m required_by[req]\n\u001b[0;32m--> 875\u001b[0m     \u001b[38;5;28;01mraise\u001b[39;00m VersionConflict(dist, req)\u001b[38;5;241m.\u001b[39mwith_context(dependent_req)\n\u001b[1;32m    876\u001b[0m \u001b[38;5;28;01mreturn\u001b[39;00m dist\n",
      "\u001b[0;31mContextualVersionConflict\u001b[0m: (matplotlib 3.7.2 (/Users/wtbarnes/mambaforge/envs/spd-2023-sunpy-demo/lib/python3.11/site-packages), Requirement.parse('matplotlib==3.5.3'), {'solarmach'})"
     ]
    }
   ],
   "source": [
    "from sunpy.net import Fido, attrs as attrs\n",
    "import dkist.net\n",
    "import sunpy_soar\n",
    "import astropy.units as u\n",
    "import solarmach\n",
    "\n",
    "from sunpy.coordinates import get_earth, get_horizons_coord"
   ]
  },
  {
   "cell_type": "markdown",
   "metadata": {},
   "source": [
    "## Searching for and Downloading Data with `Fido`"
   ]
  },
  {
   "cell_type": "markdown",
   "metadata": {},
   "source": []
  },
  {
   "cell_type": "markdown",
   "metadata": {},
   "source": [
    "### SDO"
   ]
  },
  {
   "cell_type": "code",
   "execution_count": 38,
   "metadata": {
    "tags": []
   },
   "outputs": [],
   "source": [
    "time_range = attrs.Time(\"2022-10-24T19:00\", \"2022-10-24T19:30\")"
   ]
  },
  {
   "cell_type": "code",
   "execution_count": 53,
   "metadata": {
    "tags": []
   },
   "outputs": [],
   "source": [
    "aia_query = time_range & attrs.Instrument.aia & attrs.Wavelength(171*u.Angstrom) & attrs.Sample(10*u.minute)"
   ]
  },
  {
   "cell_type": "code",
   "execution_count": 54,
   "metadata": {
    "tags": []
   },
   "outputs": [],
   "source": [
    "q = Fido.search(\n",
    "    aia_query\n",
    ")"
   ]
  },
  {
   "cell_type": "code",
   "execution_count": 55,
   "metadata": {
    "tags": []
   },
   "outputs": [
    {
     "data": {
      "text/html": [
       "Results from 1 Provider:</br></br>3 Results from the VSOClient:</br><div><i>VSOQueryResponseTable length=3</i>\n",
       "<table id=\"table6069789520\" class=\"table-striped table-bordered table-condensed\">\n",
       "<thead><tr><th>Start Time</th><th>End Time</th><th>Source</th><th>Instrument</th><th>Wavelength</th><th>Provider</th><th>Physobs</th><th>Wavetype</th><th>Extent Width</th><th>Extent Length</th><th>Extent Type</th><th>Size</th></tr></thead>\n",
       "<thead><tr><th></th><th></th><th></th><th></th><th>Angstrom</th><th></th><th></th><th></th><th></th><th></th><th></th><th>Mibyte</th></tr></thead>\n",
       "<thead><tr><th>Time</th><th>Time</th><th>str3</th><th>str3</th><th>float64[2]</th><th>str4</th><th>str9</th><th>str6</th><th>str4</th><th>str4</th><th>str8</th><th>float64</th></tr></thead>\n",
       "<tr><td>2022-10-24 19:00:09.000</td><td>2022-10-24 19:00:10.000</td><td>SDO</td><td>AIA</td><td>171.0 .. 171.0</td><td>JSOC</td><td>intensity</td><td>NARROW</td><td>4096</td><td>4096</td><td>FULLDISK</td><td>64.64844</td></tr>\n",
       "<tr><td>2022-10-24 19:10:09.000</td><td>2022-10-24 19:10:10.000</td><td>SDO</td><td>AIA</td><td>171.0 .. 171.0</td><td>JSOC</td><td>intensity</td><td>NARROW</td><td>4096</td><td>4096</td><td>FULLDISK</td><td>64.64844</td></tr>\n",
       "<tr><td>2022-10-24 19:20:09.000</td><td>2022-10-24 19:20:10.000</td><td>SDO</td><td>AIA</td><td>171.0 .. 171.0</td><td>JSOC</td><td>intensity</td><td>NARROW</td><td>4096</td><td>4096</td><td>FULLDISK</td><td>64.64844</td></tr>\n",
       "</table></div></br>"
      ],
      "text/plain": [
       "<sunpy.net.fido_factory.UnifiedResponse object at 0x1699cf0d0>\n",
       "Results from 1 Provider:\n",
       "\n",
       "3 Results from the VSOClient:\n",
       "Source: http://vso.stanford.edu/cgi-bin/search\n",
       "Total estimated size: 203.366 Mbyte\n",
       "\n",
       "       Start Time               End Time        Source Instrument   Wavelength   Provider  Physobs  Wavetype Extent Width Extent Length Extent Type   Size  \n",
       "                                                                     Angstrom                                                                        Mibyte \n",
       "----------------------- ----------------------- ------ ---------- -------------- -------- --------- -------- ------------ ------------- ----------- --------\n",
       "2022-10-24 19:00:09.000 2022-10-24 19:00:10.000    SDO        AIA 171.0 .. 171.0     JSOC intensity   NARROW         4096          4096    FULLDISK 64.64844\n",
       "2022-10-24 19:10:09.000 2022-10-24 19:10:10.000    SDO        AIA 171.0 .. 171.0     JSOC intensity   NARROW         4096          4096    FULLDISK 64.64844\n",
       "2022-10-24 19:20:09.000 2022-10-24 19:20:10.000    SDO        AIA 171.0 .. 171.0     JSOC intensity   NARROW         4096          4096    FULLDISK 64.64844\n"
      ]
     },
     "execution_count": 55,
     "metadata": {},
     "output_type": "execute_result"
    }
   ],
   "source": [
    "q"
   ]
  },
  {
   "cell_type": "code",
   "execution_count": 57,
   "metadata": {
    "tags": []
   },
   "outputs": [
    {
     "name": "stderr",
     "output_type": "stream",
     "text": [
      "Files Downloaded:   0%|                                                                                                                              | 0/3 [00:00<?, ?file/s]\n",
      "aia_lev1_171a_2022_10_24t19_00_09_34z_image_lev1.fits:   0%|                                                                                     | 0.00/11.8M [00:00<?, ?B/s]\u001b[A\n",
      "\n",
      "\n",
      "aia_lev1_171a_2022_10_24t19_20_09_35z_image_lev1.fits:   0%|                                                                                     | 0.00/11.8M [00:00<?, ?B/s]\u001b[A\u001b[A\u001b[A\n",
      "\n",
      "\n",
      "aia_lev1_171a_2022_10_24t19_20_09_35z_image_lev1.fits:   0%|                                                                          | 1.02k/11.8M [00:00<3:00:06, 1.09kB/s]\u001b[A\u001b[A\u001b[A\n",
      "\n",
      "\n",
      "aia_lev1_171a_2022_10_24t19_20_09_35z_image_lev1.fits:   1%|▌                                                                            | 90.0k/11.8M [00:01<01:41, 116kB/s]\u001b[A\u001b[A\u001b[A\n",
      "\n",
      "\n",
      "aia_lev1_171a_2022_10_24t19_20_09_35z_image_lev1.fits:   2%|█▍                                                                            | 218k/11.8M [00:01<00:39, 297kB/s]\u001b[A\u001b[A\u001b[A\n",
      "\n",
      "\n",
      "aia_lev1_171a_2022_10_24t19_20_09_35z_image_lev1.fits:   3%|██▎                                                                           | 343k/11.8M [00:01<00:24, 469kB/s]\u001b[A\u001b[A\u001b[A\n",
      "\n",
      "\n",
      "aia_lev1_171a_2022_10_24t19_20_09_35z_image_lev1.fits:   4%|███▎                                                                          | 500k/11.8M [00:01<00:16, 689kB/s]\u001b[A\u001b[A\u001b[A\n",
      "\n",
      "\n",
      "aia_lev1_171a_2022_10_24t19_20_09_35z_image_lev1.fits:   5%|████▎                                                                         | 647k/11.8M [00:01<00:12, 866kB/s]\u001b[A\u001b[A\u001b[A\n",
      "\n",
      "\n",
      "aia_lev1_171a_2022_10_24t19_20_09_35z_image_lev1.fits:   7%|█████▎                                                                       | 825k/11.8M [00:01<00:10, 1.08MB/s]\u001b[A\u001b[A\u001b[A\n",
      "\n",
      "\n",
      "aia_lev1_171a_2022_10_24t19_20_09_35z_image_lev1.fits:   9%|██████▌                                                                     | 1.02M/11.8M [00:01<00:08, 1.31MB/s]\u001b[A\u001b[A\u001b[A\n",
      "\n",
      "\n",
      "aia_lev1_171a_2022_10_24t19_20_09_35z_image_lev1.fits:  11%|███████▉                                                                    | 1.24M/11.8M [00:01<00:07, 1.49MB/s]\u001b[A\u001b[A\u001b[A\n",
      "\n",
      "\n",
      "aia_lev1_171a_2022_10_24t19_20_09_35z_image_lev1.fits:  12%|█████████                                                                   | 1.41M/11.8M [00:01<00:06, 1.54MB/s]\u001b[A\u001b[A\u001b[A\n",
      "\n",
      "\n",
      "aia_lev1_171a_2022_10_24t19_20_09_35z_image_lev1.fits:  14%|██████████▉                                                                 | 1.70M/11.8M [00:01<00:05, 1.89MB/s]\u001b[A\u001b[A\u001b[A\n",
      "\n",
      "\n",
      "aia_lev1_171a_2022_10_24t19_20_09_35z_image_lev1.fits:  17%|████████████▊                                                               | 2.00M/11.8M [00:02<00:04, 2.19MB/s]\u001b[A\u001b[A\u001b[A\n",
      "\n",
      "\n",
      "aia_lev1_171a_2022_10_24t19_20_09_35z_image_lev1.fits:  19%|██████████████▍                                                             | 2.25M/11.8M [00:02<00:04, 2.27MB/s]\u001b[A\u001b[A\u001b[A\n",
      "\n",
      "\n",
      "aia_lev1_171a_2022_10_24t19_20_09_35z_image_lev1.fits:  21%|████████████████▏                                                           | 2.52M/11.8M [00:02<00:04, 2.24MB/s]\u001b[A\u001b[A\u001b[A\n",
      "\n",
      "\n",
      "aia_lev1_171a_2022_10_24t19_20_09_35z_image_lev1.fits:  24%|██████████████████▍                                                         | 2.87M/11.8M [00:02<00:03, 2.56MB/s]\u001b[A\u001b[A\u001b[A\n",
      "\n",
      "\n",
      "aia_lev1_171a_2022_10_24t19_20_09_35z_image_lev1.fits:  28%|█████████████████████▍                                                      | 3.34M/11.8M [00:02<00:02, 3.17MB/s]\u001b[A\u001b[A\u001b[A\n",
      "\n",
      "\n",
      "aia_lev1_171a_2022_10_24t19_20_09_35z_image_lev1.fits:  33%|████████████████████████▋                                                   | 3.85M/11.8M [00:02<00:02, 3.69MB/s]\u001b[A\u001b[A\u001b[A\n",
      "\n",
      "\n",
      "aia_lev1_171a_2022_10_24t19_20_09_35z_image_lev1.fits:  37%|███████████████████████████▉                                                | 4.35M/11.8M [00:02<00:01, 3.99MB/s]\u001b[A\u001b[A\u001b[A\n",
      "\n",
      "\n",
      "aia_lev1_171a_2022_10_24t19_20_09_35z_image_lev1.fits:  43%|█████████████████████████████████                                           | 5.14M/11.8M [00:02<00:01, 5.01MB/s]\u001b[A\u001b[A\u001b[A\n",
      "\n",
      "\n",
      "aia_lev1_171a_2022_10_24t19_20_09_35z_image_lev1.fits:  48%|████████████████████████████████████▎                                       | 5.64M/11.8M [00:02<00:01, 4.63MB/s]\u001b[A\u001b[A\u001b[A\n",
      "\n",
      "\n",
      "aia_lev1_171a_2022_10_24t19_20_09_35z_image_lev1.fits:  52%|███████████████████████████████████████▌                                    | 6.17M/11.8M [00:03<00:01, 4.56MB/s]\u001b[A\u001b[A\u001b[A\n",
      "\n",
      "\n",
      "aia_lev1_171a_2022_10_24t19_20_09_35z_image_lev1.fits:  59%|████████████████████████████████████████████▋                               | 6.95M/11.8M [00:03<00:00, 5.43MB/s]\u001b[A\u001b[A\u001b[A\n",
      "\n",
      "\n",
      "aia_lev1_171a_2022_10_24t19_20_09_35z_image_lev1.fits:  63%|████████████████████████████████████████████████▏                           | 7.51M/11.8M [00:03<00:00, 4.79MB/s]\u001b[A\u001b[A\u001b[A\n",
      "\n",
      "\n",
      "aia_lev1_171a_2022_10_24t19_20_09_35z_image_lev1.fits:  69%|████████████████████████████████████████████████████▎                       | 8.15M/11.8M [00:03<00:00, 5.21MB/s]\u001b[A\u001b[A\u001b[A\n",
      "\n",
      "\n",
      "aia_lev1_171a_2022_10_24t19_20_09_35z_image_lev1.fits:  76%|██████████████████████████████████████████████████████████                  | 9.03M/11.8M [00:03<00:00, 6.19MB/s]\u001b[A\u001b[A\u001b[A\n",
      "\n",
      "\n",
      "aia_lev1_171a_2022_10_24t19_20_09_35z_image_lev1.fits:  85%|████████████████████████████████████████████████████████████████▎           | 10.0M/11.8M [00:03<00:00, 6.58MB/s]\u001b[A\u001b[A\u001b[A\n",
      "\n",
      "\n",
      "aia_lev1_171a_2022_10_24t19_20_09_35z_image_lev1.fits:  94%|███████████████████████████████████████████████████████████████████████▍    | 11.1M/11.8M [00:03<00:00, 7.78MB/s]\u001b[A\u001b[A\u001b[A\n",
      "\n",
      "\n",
      "Files Downloaded:  33%|███████████████████████████████████████▎                                                                              | 1/3 [00:04<00:09,  4.73s/file]\u001b[A\u001b[A\u001b[A\n",
      "aia_lev1_171a_2022_10_24t19_00_09_34z_image_lev1.fits:   0%|                                                                         | 1.02k/11.8M [01:24<271:10:23, 12.1B/s]\u001b[A\n",
      "aia_lev1_171a_2022_10_24t19_00_09_34z_image_lev1.fits:   1%|▊                                                                          | 133k/11.8M [01:24<1:26:55, 2.24kB/s]\u001b[A\n",
      "aia_lev1_171a_2022_10_24t19_00_09_34z_image_lev1.fits:   3%|██▏                                                                          | 328k/11.8M [01:24<27:43, 6.92kB/s]\u001b[A\n",
      "aia_lev1_171a_2022_10_24t19_00_09_34z_image_lev1.fits:   4%|███▏                                                                         | 495k/11.8M [01:24<14:58, 12.6kB/s]\u001b[A\n",
      "aia_lev1_171a_2022_10_24t19_00_09_34z_image_lev1.fits:   6%|████▋                                                                        | 717k/11.8M [01:24<07:56, 23.3kB/s]\u001b[A\n",
      "aia_lev1_171a_2022_10_24t19_00_09_34z_image_lev1.fits:   8%|██████                                                                       | 929k/11.8M [01:25<04:48, 37.8kB/s]\u001b[A\n",
      "aia_lev1_171a_2022_10_24t19_00_09_34z_image_lev1.fits:   9%|███████▏                                                                    | 1.12M/11.8M [01:25<03:11, 56.0kB/s]\u001b[A\n",
      "aia_lev1_171a_2022_10_24t19_00_09_34z_image_lev1.fits:  13%|█████████▋                                                                   | 1.48M/11.8M [01:25<01:38, 105kB/s]\u001b[A\n",
      "aia_lev1_171a_2022_10_24t19_00_09_34z_image_lev1.fits:  16%|████████████▏                                                                | 1.87M/11.8M [01:25<00:56, 177kB/s]\u001b[A\n",
      "\n",
      "aia_lev1_171a_2022_10_24t19_10_09_35z_image_lev1.fits:   0%|                                                                                     | 0.00/11.8M [00:00<?, ?B/s]\u001b[A\u001b[A\n",
      "aia_lev1_171a_2022_10_24t19_00_09_34z_image_lev1.fits:  19%|██████████████▎                                                              | 2.19M/11.8M [01:25<00:37, 259kB/s]\u001b[A\n",
      "aia_lev1_171a_2022_10_24t19_00_09_34z_image_lev1.fits:  22%|████████████████▉                                                            | 2.61M/11.8M [01:25<00:22, 401kB/s]\u001b[A\n",
      "aia_lev1_171a_2022_10_24t19_00_09_34z_image_lev1.fits:  27%|████████████████████▊                                                        | 3.19M/11.8M [01:25<00:12, 672kB/s]\u001b[A\n",
      "aia_lev1_171a_2022_10_24t19_00_09_34z_image_lev1.fits:  30%|███████████████████████▍                                                     | 3.59M/11.8M [01:25<00:09, 887kB/s]\u001b[A\n",
      "aia_lev1_171a_2022_10_24t19_00_09_34z_image_lev1.fits:  36%|███████████████████████████▍                                                | 4.27M/11.8M [01:25<00:05, 1.39MB/s]\u001b[A\n",
      "aia_lev1_171a_2022_10_24t19_00_09_34z_image_lev1.fits:  41%|███████████████████████████████                                             | 4.84M/11.8M [01:25<00:03, 1.85MB/s]\u001b[A\n",
      "aia_lev1_171a_2022_10_24t19_00_09_34z_image_lev1.fits:  45%|██████████████████████████████████▍                                         | 5.36M/11.8M [01:26<00:02, 2.30MB/s]\u001b[A\n",
      "aia_lev1_171a_2022_10_24t19_00_09_34z_image_lev1.fits:  50%|█████████████████████████████████████▋                                      | 5.86M/11.8M [01:26<00:02, 2.73MB/s]\u001b[A\n",
      "aia_lev1_171a_2022_10_24t19_00_09_34z_image_lev1.fits:  58%|███████████████████████████████████████████▉                                | 6.83M/11.8M [01:26<00:01, 4.03MB/s]\u001b[A\n",
      "aia_lev1_171a_2022_10_24t19_00_09_34z_image_lev1.fits:  63%|████████████████████████████████████████████████                            | 7.47M/11.8M [01:26<00:01, 4.24MB/s]\u001b[A\n",
      "aia_lev1_171a_2022_10_24t19_00_09_34z_image_lev1.fits:  70%|█████████████████████████████████████████████████████                       | 8.26M/11.8M [01:26<00:00, 4.81MB/s]\u001b[A\n",
      "aia_lev1_171a_2022_10_24t19_00_09_34z_image_lev1.fits:  75%|████████████████████████████████████████████████████████▉                   | 8.87M/11.8M [01:26<00:00, 4.98MB/s]\u001b[A\n",
      "aia_lev1_171a_2022_10_24t19_00_09_34z_image_lev1.fits:  80%|████████████████████████████████████████████████████████████▊               | 9.46M/11.8M [01:26<00:00, 4.47MB/s]\u001b[A\n",
      "aia_lev1_171a_2022_10_24t19_00_09_34z_image_lev1.fits:  91%|█████████████████████████████████████████████████████████████████████       | 10.8M/11.8M [01:26<00:00, 6.28MB/s]\u001b[A\n",
      "Files Downloaded:  67%|██████████████████████████████████████████████████████████████████████████████▋                                       | 2/3 [01:27<00:50, 50.84s/file]\u001b[A\n",
      "\n",
      "aia_lev1_171a_2022_10_24t19_10_09_35z_image_lev1.fits:   0%|                                                                            | 1.02k/11.8M [00:02<8:55:09, 368B/s]\u001b[A\u001b[A\n",
      "\n",
      "aia_lev1_171a_2022_10_24t19_10_09_35z_image_lev1.fits:   1%|▌                                                                           | 90.6k/11.8M [00:02<04:26, 44.1kB/s]\u001b[A\u001b[A\n",
      "\n",
      "aia_lev1_171a_2022_10_24t19_10_09_35z_image_lev1.fits:   2%|█▌                                                                            | 243k/11.8M [00:02<01:22, 140kB/s]\u001b[A\u001b[A\n",
      "\n",
      "aia_lev1_171a_2022_10_24t19_10_09_35z_image_lev1.fits:   4%|███▎                                                                          | 503k/11.8M [00:03<00:32, 347kB/s]\u001b[A\u001b[A\n",
      "\n",
      "aia_lev1_171a_2022_10_24t19_10_09_35z_image_lev1.fits:   6%|████▋                                                                         | 707k/11.8M [00:03<00:21, 522kB/s]\u001b[A\u001b[A\n",
      "\n",
      "aia_lev1_171a_2022_10_24t19_10_09_35z_image_lev1.fits:   8%|██████▎                                                                       | 960k/11.8M [00:03<00:13, 781kB/s]\u001b[A\u001b[A\n",
      "\n",
      "aia_lev1_171a_2022_10_24t19_10_09_35z_image_lev1.fits:  11%|████████▎                                                                   | 1.30M/11.8M [00:03<00:08, 1.19MB/s]\u001b[A\u001b[A\n",
      "\n",
      "aia_lev1_171a_2022_10_24t19_10_09_35z_image_lev1.fits:  13%|██████████▏                                                                 | 1.58M/11.8M [00:03<00:06, 1.50MB/s]\u001b[A\u001b[A\n",
      "\n",
      "aia_lev1_171a_2022_10_24t19_10_09_35z_image_lev1.fits:  16%|████████████▍                                                               | 1.94M/11.8M [00:03<00:05, 1.92MB/s]\u001b[A\u001b[A\n",
      "\n",
      "aia_lev1_171a_2022_10_24t19_10_09_35z_image_lev1.fits:  20%|███████████████▎                                                            | 2.38M/11.8M [00:03<00:03, 2.41MB/s]\u001b[A\u001b[A\n",
      "\n",
      "aia_lev1_171a_2022_10_24t19_10_09_35z_image_lev1.fits:  23%|█████████████████▎                                                          | 2.69M/11.8M [00:03<00:03, 2.49MB/s]\u001b[A\u001b[A\n",
      "\n",
      "aia_lev1_171a_2022_10_24t19_10_09_35z_image_lev1.fits:  28%|████████████████████▉                                                       | 3.26M/11.8M [00:03<00:02, 3.29MB/s]\u001b[A\u001b[A\n",
      "\n",
      "aia_lev1_171a_2022_10_24t19_10_09_35z_image_lev1.fits:  33%|█████████████████████████▎                                                  | 3.95M/11.8M [00:04<00:01, 4.15MB/s]\u001b[A\u001b[A\n",
      "\n",
      "aia_lev1_171a_2022_10_24t19_10_09_35z_image_lev1.fits:  38%|█████████████████████████████                                               | 4.53M/11.8M [00:04<00:01, 4.32MB/s]\u001b[A\u001b[A\n",
      "\n",
      "aia_lev1_171a_2022_10_24t19_10_09_35z_image_lev1.fits:  42%|████████████████████████████████                                            | 4.99M/11.8M [00:04<00:01, 4.31MB/s]\u001b[A\u001b[A\n",
      "\n",
      "aia_lev1_171a_2022_10_24t19_10_09_35z_image_lev1.fits:  48%|████████████████████████████████████▎                                       | 5.65M/11.8M [00:04<00:01, 4.91MB/s]\u001b[A\u001b[A\n",
      "\n",
      "aia_lev1_171a_2022_10_24t19_10_09_35z_image_lev1.fits:  52%|███████████████████████████████████████▌                                    | 6.16M/11.8M [00:04<00:01, 4.53MB/s]\u001b[A\u001b[A\n",
      "\n",
      "aia_lev1_171a_2022_10_24t19_10_09_35z_image_lev1.fits:  60%|█████████████████████████████████████████████▍                              | 7.07M/11.8M [00:04<00:00, 5.61MB/s]\u001b[A\u001b[A\n",
      "\n",
      "aia_lev1_171a_2022_10_24t19_10_09_35z_image_lev1.fits:  66%|█████████████████████████████████████████████████▊                          | 7.75M/11.8M [00:04<00:00, 5.93MB/s]\u001b[A\u001b[A\n",
      "\n",
      "aia_lev1_171a_2022_10_24t19_10_09_35z_image_lev1.fits:  71%|█████████████████████████████████████████████████████▊                      | 8.37M/11.8M [00:04<00:00, 5.91MB/s]\u001b[A\u001b[A\n",
      "\n",
      "aia_lev1_171a_2022_10_24t19_10_09_35z_image_lev1.fits:  76%|█████████████████████████████████████████████████████████▋                  | 8.97M/11.8M [00:04<00:00, 5.29MB/s]\u001b[A\u001b[A\n",
      "\n",
      "aia_lev1_171a_2022_10_24t19_10_09_35z_image_lev1.fits:  82%|██████████████████████████████████████████████████████████████              | 9.67M/11.8M [00:05<00:00, 4.71MB/s]\u001b[A\u001b[A\n",
      "\n",
      "aia_lev1_171a_2022_10_24t19_10_09_35z_image_lev1.fits:  86%|█████████████████████████████████████████████████████████████████▎          | 10.2M/11.8M [00:05<00:00, 4.69MB/s]\u001b[A\u001b[A\n",
      "\n",
      "aia_lev1_171a_2022_10_24t19_10_09_35z_image_lev1.fits:  91%|█████████████████████████████████████████████████████████████████████▍      | 10.8M/11.8M [00:05<00:00, 5.10MB/s]\u001b[A\u001b[A\n",
      "\n",
      "aia_lev1_171a_2022_10_24t19_10_09_35z_image_lev1.fits:  96%|████████████████████████████████████████████████████████████████████████▊   | 11.3M/11.8M [00:05<00:00, 4.78MB/s]\u001b[A\u001b[A\n",
      "\n",
      "Files Downloaded: 100%|██████████████████████████████████████████████████████████████████████████████████████████████████████████████████████| 3/3 [01:31<00:00, 30.62s/file]\u001b[A\u001b[A\n"
     ]
    }
   ],
   "source": [
    "aia_files = Fido.fetch(q, path='data/{instrument}')"
   ]
  },
  {
   "cell_type": "markdown",
   "metadata": {},
   "source": [
    "### Solar Orbiter"
   ]
  },
  {
   "cell_type": "code",
   "execution_count": 42,
   "metadata": {
    "tags": []
   },
   "outputs": [],
   "source": [
    "eui_query = time_range & attrs.soar.Product('EUI-HRIEUV174-IMAGE') & attrs.Level(2)\n",
    "spice_query = time_range & attrs.soar.Product('SPICE-N-RAS') & attrs.Level(2)"
   ]
  },
  {
   "cell_type": "code",
   "execution_count": 43,
   "metadata": {
    "tags": []
   },
   "outputs": [],
   "source": [
    "q = Fido.search(eui_query | spice_query)"
   ]
  },
  {
   "cell_type": "code",
   "execution_count": 44,
   "metadata": {
    "tags": []
   },
   "outputs": [
    {
     "data": {
      "text/html": [
       "Results from 2 Providers:</br></br>360 Results from the SOARClient:</br><div><i>QueryResponseTable length=360</i>\n",
       "<table id=\"table5637037456\" class=\"table-striped table-bordered table-condensed\">\n",
       "<thead><tr><th>Instrument</th><th>Data product</th><th>Level</th><th>Start time</th><th>End time</th><th>Data item ID</th><th>Filename</th><th>Filesize</th><th>SOOP Name</th></tr></thead>\n",
       "<thead><tr><th></th><th></th><th></th><th></th><th></th><th></th><th></th><th>Mbyte</th><th></th></tr></thead>\n",
       "<thead><tr><th>str3</th><th>str19</th><th>str2</th><th>str23</th><th>str23</th><th>str46</th><th>str55</th><th>float64</th><th>str30</th></tr></thead>\n",
       "<tr><td>EUI</td><td>EUI-HRIEUV174-IMAGE</td><td>L2</td><td>2022-10-24 19:29:55.174</td><td>2022-10-24 19:29:56.824</td><td>solo_L2_eui-hrieuv174-image_20221024T192955174</td><td>solo_L2_eui-hrieuv174-image_20221024T192955174_V01.fits</td><td>5.665</td><td>R_SMALL_MRES_MCAD_AR-Long-Term</td></tr>\n",
       "<tr><td>EUI</td><td>EUI-HRIEUV174-IMAGE</td><td>L2</td><td>2022-10-24 19:29:30.174</td><td>2022-10-24 19:29:31.824</td><td>solo_L2_eui-hrieuv174-image_20221024T192930174</td><td>solo_L2_eui-hrieuv174-image_20221024T192930174_V01.fits</td><td>5.679</td><td>R_SMALL_MRES_MCAD_AR-Long-Term</td></tr>\n",
       "<tr><td>EUI</td><td>EUI-HRIEUV174-IMAGE</td><td>L2</td><td>2022-10-24 19:29:10.174</td><td>2022-10-24 19:29:11.824</td><td>solo_L2_eui-hrieuv174-image_20221024T192910174</td><td>solo_L2_eui-hrieuv174-image_20221024T192910174_V01.fits</td><td>5.665</td><td>R_SMALL_MRES_MCAD_AR-Long-Term</td></tr>\n",
       "<tr><td>EUI</td><td>EUI-HRIEUV174-IMAGE</td><td>L2</td><td>2022-10-24 19:20:25.173</td><td>2022-10-24 19:20:26.823</td><td>solo_L2_eui-hrieuv174-image_20221024T192025173</td><td>solo_L2_eui-hrieuv174-image_20221024T192025173_V01.fits</td><td>5.504</td><td>R_SMALL_MRES_MCAD_AR-Long-Term</td></tr>\n",
       "<tr><td>EUI</td><td>EUI-HRIEUV174-IMAGE</td><td>L2</td><td>2022-10-24 19:28:40.174</td><td>2022-10-24 19:28:41.824</td><td>solo_L2_eui-hrieuv174-image_20221024T192840174</td><td>solo_L2_eui-hrieuv174-image_20221024T192840174_V01.fits</td><td>5.662</td><td>R_SMALL_MRES_MCAD_AR-Long-Term</td></tr>\n",
       "<tr><td>EUI</td><td>EUI-HRIEUV174-IMAGE</td><td>L2</td><td>2022-10-24 19:28:20.204</td><td>2022-10-24 19:28:21.854</td><td>solo_L2_eui-hrieuv174-image_20221024T192820204</td><td>solo_L2_eui-hrieuv174-image_20221024T192820204_V01.fits</td><td>5.659</td><td>R_SMALL_MRES_MCAD_AR-Long-Term</td></tr>\n",
       "<tr><td>EUI</td><td>EUI-HRIEUV174-IMAGE</td><td>L2</td><td>2022-10-24 19:27:55.188</td><td>2022-10-24 19:27:56.838</td><td>solo_L2_eui-hrieuv174-image_20221024T192755188</td><td>solo_L2_eui-hrieuv174-image_20221024T192755188_V01.fits</td><td>5.679</td><td>R_SMALL_MRES_MCAD_AR-Long-Term</td></tr>\n",
       "<tr><td>EUI</td><td>EUI-HRIEUV174-IMAGE</td><td>L2</td><td>2022-10-24 19:27:35.189</td><td>2022-10-24 19:27:36.839</td><td>solo_L2_eui-hrieuv174-image_20221024T192735189</td><td>solo_L2_eui-hrieuv174-image_20221024T192735189_V01.fits</td><td>5.665</td><td>R_SMALL_MRES_MCAD_AR-Long-Term</td></tr>\n",
       "<tr><td>EUI</td><td>EUI-HRIEUV174-IMAGE</td><td>L2</td><td>2022-10-24 19:27:10.174</td><td>2022-10-24 19:27:11.824</td><td>solo_L2_eui-hrieuv174-image_20221024T192710174</td><td>solo_L2_eui-hrieuv174-image_20221024T192710174_V01.fits</td><td>5.659</td><td>R_SMALL_MRES_MCAD_AR-Long-Term</td></tr>\n",
       "<tr><td>EUI</td><td>EUI-HRIEUV174-IMAGE</td><td>L2</td><td>2022-10-24 19:26:45.174</td><td>2022-10-24 19:26:46.824</td><td>solo_L2_eui-hrieuv174-image_20221024T192645174</td><td>solo_L2_eui-hrieuv174-image_20221024T192645174_V01.fits</td><td>5.659</td><td>R_SMALL_MRES_MCAD_AR-Long-Term</td></tr>\n",
       "<tr><td>EUI</td><td>EUI-HRIEUV174-IMAGE</td><td>L2</td><td>2022-10-24 19:26:15.173</td><td>2022-10-24 19:26:16.823</td><td>solo_L2_eui-hrieuv174-image_20221024T192615173</td><td>solo_L2_eui-hrieuv174-image_20221024T192615173_V01.fits</td><td>5.628</td><td>R_SMALL_MRES_MCAD_AR-Long-Term</td></tr>\n",
       "<tr><td>EUI</td><td>EUI-HRIEUV174-IMAGE</td><td>L2</td><td>2022-10-24 19:25:55.174</td><td>2022-10-24 19:25:56.824</td><td>solo_L2_eui-hrieuv174-image_20221024T192555174</td><td>solo_L2_eui-hrieuv174-image_20221024T192555174_V01.fits</td><td>5.662</td><td>R_SMALL_MRES_MCAD_AR-Long-Term</td></tr>\n",
       "<tr><td>EUI</td><td>EUI-HRIEUV174-IMAGE</td><td>L2</td><td>2022-10-24 19:25:35.173</td><td>2022-10-24 19:25:36.823</td><td>solo_L2_eui-hrieuv174-image_20221024T192535173</td><td>solo_L2_eui-hrieuv174-image_20221024T192535173_V01.fits</td><td>5.662</td><td>R_SMALL_MRES_MCAD_AR-Long-Term</td></tr>\n",
       "<tr><td>EUI</td><td>EUI-HRIEUV174-IMAGE</td><td>L2</td><td>2022-10-24 19:25:10.173</td><td>2022-10-24 19:25:11.823</td><td>solo_L2_eui-hrieuv174-image_20221024T192510173</td><td>solo_L2_eui-hrieuv174-image_20221024T192510173_V01.fits</td><td>5.662</td><td>R_SMALL_MRES_MCAD_AR-Long-Term</td></tr>\n",
       "<tr><td>EUI</td><td>EUI-HRIEUV174-IMAGE</td><td>L2</td><td>2022-10-24 19:20:00.173</td><td>2022-10-24 19:20:01.823</td><td>solo_L2_eui-hrieuv174-image_20221024T192000173</td><td>solo_L2_eui-hrieuv174-image_20221024T192000173_V01.fits</td><td>5.547</td><td>R_SMALL_MRES_MCAD_AR-Long-Term</td></tr>\n",
       "<tr><td>EUI</td><td>EUI-HRIEUV174-IMAGE</td><td>L2</td><td>2022-10-24 19:24:45.173</td><td>2022-10-24 19:24:46.823</td><td>solo_L2_eui-hrieuv174-image_20221024T192445173</td><td>solo_L2_eui-hrieuv174-image_20221024T192445173_V01.fits</td><td>5.639</td><td>R_SMALL_MRES_MCAD_AR-Long-Term</td></tr>\n",
       "<tr><td>...</td><td>...</td><td>...</td><td>...</td><td>...</td><td>...</td><td>...</td><td>...</td><td>...</td></tr>\n",
       "<tr><td>EUI</td><td>EUI-HRIEUV174-IMAGE</td><td>L2</td><td>2022-10-24 19:28:30.174</td><td>2022-10-24 19:28:31.824</td><td>solo_L2_eui-hrieuv174-image_20221024T192830174</td><td>solo_L2_eui-hrieuv174-image_20221024T192830174_V01.fits</td><td>5.679</td><td>R_SMALL_MRES_MCAD_AR-Long-Term</td></tr>\n",
       "<tr><td>EUI</td><td>EUI-HRIEUV174-IMAGE</td><td>L2</td><td>2022-10-24 19:26:20.173</td><td>2022-10-24 19:26:21.823</td><td>solo_L2_eui-hrieuv174-image_20221024T192620173</td><td>solo_L2_eui-hrieuv174-image_20221024T192620173_V01.fits</td><td>5.659</td><td>R_SMALL_MRES_MCAD_AR-Long-Term</td></tr>\n",
       "<tr><td>EUI</td><td>EUI-HRIEUV174-IMAGE</td><td>L2</td><td>2022-10-24 19:27:25.174</td><td>2022-10-24 19:27:26.824</td><td>solo_L2_eui-hrieuv174-image_20221024T192725174</td><td>solo_L2_eui-hrieuv174-image_20221024T192725174_V01.fits</td><td>5.659</td><td>R_SMALL_MRES_MCAD_AR-Long-Term</td></tr>\n",
       "<tr><td>EUI</td><td>EUI-HRIEUV174-IMAGE</td><td>L2</td><td>2022-10-24 19:28:35.174</td><td>2022-10-24 19:28:36.824</td><td>solo_L2_eui-hrieuv174-image_20221024T192835174</td><td>solo_L2_eui-hrieuv174-image_20221024T192835174_V01.fits</td><td>5.639</td><td>R_SMALL_MRES_MCAD_AR-Long-Term</td></tr>\n",
       "<tr><td>EUI</td><td>EUI-HRIEUV174-IMAGE</td><td>L2</td><td>2022-10-24 19:28:45.174</td><td>2022-10-24 19:28:46.824</td><td>solo_L2_eui-hrieuv174-image_20221024T192845174</td><td>solo_L2_eui-hrieuv174-image_20221024T192845174_V01.fits</td><td>5.659</td><td>R_SMALL_MRES_MCAD_AR-Long-Term</td></tr>\n",
       "<tr><td>EUI</td><td>EUI-HRIEUV174-IMAGE</td><td>L2</td><td>2022-10-24 19:28:50.174</td><td>2022-10-24 19:28:51.824</td><td>solo_L2_eui-hrieuv174-image_20221024T192850174</td><td>solo_L2_eui-hrieuv174-image_20221024T192850174_V01.fits</td><td>5.639</td><td>R_SMALL_MRES_MCAD_AR-Long-Term</td></tr>\n",
       "<tr><td>EUI</td><td>EUI-HRIEUV174-IMAGE</td><td>L2</td><td>2022-10-24 19:28:55.202</td><td>2022-10-24 19:28:56.852</td><td>solo_L2_eui-hrieuv174-image_20221024T192855202</td><td>solo_L2_eui-hrieuv174-image_20221024T192855202_V01.fits</td><td>5.665</td><td>R_SMALL_MRES_MCAD_AR-Long-Term</td></tr>\n",
       "<tr><td>EUI</td><td>EUI-HRIEUV174-IMAGE</td><td>L2</td><td>2022-10-24 19:29:00.174</td><td>2022-10-24 19:29:01.824</td><td>solo_L2_eui-hrieuv174-image_20221024T192900174</td><td>solo_L2_eui-hrieuv174-image_20221024T192900174_V01.fits</td><td>5.682</td><td>R_SMALL_MRES_MCAD_AR-Long-Term</td></tr>\n",
       "<tr><td>EUI</td><td>EUI-HRIEUV174-IMAGE</td><td>L2</td><td>2022-10-24 19:29:05.174</td><td>2022-10-24 19:29:06.824</td><td>solo_L2_eui-hrieuv174-image_20221024T192905174</td><td>solo_L2_eui-hrieuv174-image_20221024T192905174_V01.fits</td><td>5.665</td><td>R_SMALL_MRES_MCAD_AR-Long-Term</td></tr>\n",
       "<tr><td>EUI</td><td>EUI-HRIEUV174-IMAGE</td><td>L2</td><td>2022-10-24 19:29:15.174</td><td>2022-10-24 19:29:16.824</td><td>solo_L2_eui-hrieuv174-image_20221024T192915174</td><td>solo_L2_eui-hrieuv174-image_20221024T192915174_V01.fits</td><td>5.679</td><td>R_SMALL_MRES_MCAD_AR-Long-Term</td></tr>\n",
       "<tr><td>EUI</td><td>EUI-HRIEUV174-IMAGE</td><td>L2</td><td>2022-10-24 19:29:20.188</td><td>2022-10-24 19:29:21.838</td><td>solo_L2_eui-hrieuv174-image_20221024T192920188</td><td>solo_L2_eui-hrieuv174-image_20221024T192920188_V01.fits</td><td>5.679</td><td>R_SMALL_MRES_MCAD_AR-Long-Term</td></tr>\n",
       "<tr><td>EUI</td><td>EUI-HRIEUV174-IMAGE</td><td>L2</td><td>2022-10-24 19:29:25.174</td><td>2022-10-24 19:29:26.824</td><td>solo_L2_eui-hrieuv174-image_20221024T192925174</td><td>solo_L2_eui-hrieuv174-image_20221024T192925174_V01.fits</td><td>5.694</td><td>R_SMALL_MRES_MCAD_AR-Long-Term</td></tr>\n",
       "<tr><td>EUI</td><td>EUI-HRIEUV174-IMAGE</td><td>L2</td><td>2022-10-24 19:29:35.196</td><td>2022-10-24 19:29:36.846</td><td>solo_L2_eui-hrieuv174-image_20221024T192935196</td><td>solo_L2_eui-hrieuv174-image_20221024T192935196_V01.fits</td><td>5.697</td><td>R_SMALL_MRES_MCAD_AR-Long-Term</td></tr>\n",
       "<tr><td>EUI</td><td>EUI-HRIEUV174-IMAGE</td><td>L2</td><td>2022-10-24 19:29:45.174</td><td>2022-10-24 19:29:46.824</td><td>solo_L2_eui-hrieuv174-image_20221024T192945174</td><td>solo_L2_eui-hrieuv174-image_20221024T192945174_V01.fits</td><td>5.679</td><td>R_SMALL_MRES_MCAD_AR-Long-Term</td></tr>\n",
       "<tr><td>EUI</td><td>EUI-HRIEUV174-IMAGE</td><td>L2</td><td>2022-10-24 19:29:50.174</td><td>2022-10-24 19:29:51.824</td><td>solo_L2_eui-hrieuv174-image_20221024T192950174</td><td>solo_L2_eui-hrieuv174-image_20221024T192950174_V01.fits</td><td>5.639</td><td>R_SMALL_MRES_MCAD_AR-Long-Term</td></tr>\n",
       "<tr><td>EUI</td><td>EUI-HRIEUV174-IMAGE</td><td>L2</td><td>2022-10-24 19:29:40.206</td><td>2022-10-24 19:29:41.856</td><td>solo_L2_eui-hrieuv174-image_20221024T192940206</td><td>solo_L2_eui-hrieuv174-image_20221024T192940206_V01.fits</td><td>5.665</td><td>R_SMALL_MRES_MCAD_AR-Long-Term</td></tr>\n",
       "</table></div></br>3 Results from the SOARClient:</br><div><i>QueryResponseTable length=3</i>\n",
       "<table id=\"table6059095696\" class=\"table-striped table-bordered table-condensed\">\n",
       "<thead><tr><th>Instrument</th><th>Data product</th><th>Level</th><th>Start time</th><th>End time</th><th>Data item ID</th><th>Filename</th><th>Filesize</th><th>SOOP Name</th></tr></thead>\n",
       "<thead><tr><th></th><th></th><th></th><th></th><th></th><th></th><th></th><th>Mbyte</th><th></th></tr></thead>\n",
       "<thead><tr><th>str5</th><th>str11</th><th>str2</th><th>str23</th><th>str23</th><th>str35</th><th>str58</th><th>float64</th><th>str30</th></tr></thead>\n",
       "<tr><td>SPICE</td><td>SPICE-N-RAS</td><td>L2</td><td>2022-10-24 19:24:32.619</td><td>2022-10-24 19:35:51.017</td><td>solo_L2_spice-n-ras_20221024T192432</td><td>solo_L2_spice-n-ras_20221024T192432_V04_150995395-060.fits</td><td>116.715</td><td>R_SMALL_MRES_MCAD_AR-Long-Term</td></tr>\n",
       "<tr><td>SPICE</td><td>SPICE-N-RAS</td><td>L2</td><td>2022-10-24 19:13:03.619</td><td>2022-10-24 19:24:22.015</td><td>solo_L2_spice-n-ras_20221024T191303</td><td>solo_L2_spice-n-ras_20221024T191303_V04_150995395-059.fits</td><td>116.715</td><td>R_SMALL_MRES_MCAD_AR-Long-Term</td></tr>\n",
       "<tr><td>SPICE</td><td>SPICE-N-RAS</td><td>L2</td><td>2022-10-24 19:01:34.618</td><td>2022-10-24 19:12:53.014</td><td>solo_L2_spice-n-ras_20221024T190134</td><td>solo_L2_spice-n-ras_20221024T190134_V04_150995395-058.fits</td><td>116.715</td><td>R_SMALL_MRES_MCAD_AR-Long-Term</td></tr>\n",
       "</table></div></br>"
      ],
      "text/plain": [
       "<sunpy.net.fido_factory.UnifiedResponse object at 0x168eeae50>\n",
       "Results from 2 Providers:\n",
       "\n",
       "360 Results from the SOARClient:\n",
       "\n",
       "Instrument     Data product    Level        Start time               End time        Filesize           SOOP Name           \n",
       "                                                                                      Mbyte                                 \n",
       "---------- ------------------- ----- ----------------------- ----------------------- -------- ------------------------------\n",
       "       EUI EUI-HRIEUV174-IMAGE    L2 2022-10-24 19:29:55.174 2022-10-24 19:29:56.824    5.665 R_SMALL_MRES_MCAD_AR-Long-Term\n",
       "       EUI EUI-HRIEUV174-IMAGE    L2 2022-10-24 19:29:30.174 2022-10-24 19:29:31.824    5.679 R_SMALL_MRES_MCAD_AR-Long-Term\n",
       "       EUI EUI-HRIEUV174-IMAGE    L2 2022-10-24 19:29:10.174 2022-10-24 19:29:11.824    5.665 R_SMALL_MRES_MCAD_AR-Long-Term\n",
       "       EUI EUI-HRIEUV174-IMAGE    L2 2022-10-24 19:20:25.173 2022-10-24 19:20:26.823    5.504 R_SMALL_MRES_MCAD_AR-Long-Term\n",
       "       EUI EUI-HRIEUV174-IMAGE    L2 2022-10-24 19:28:40.174 2022-10-24 19:28:41.824    5.662 R_SMALL_MRES_MCAD_AR-Long-Term\n",
       "       EUI EUI-HRIEUV174-IMAGE    L2 2022-10-24 19:28:20.204 2022-10-24 19:28:21.854    5.659 R_SMALL_MRES_MCAD_AR-Long-Term\n",
       "       EUI EUI-HRIEUV174-IMAGE    L2 2022-10-24 19:27:55.188 2022-10-24 19:27:56.838    5.679 R_SMALL_MRES_MCAD_AR-Long-Term\n",
       "       EUI EUI-HRIEUV174-IMAGE    L2 2022-10-24 19:27:35.189 2022-10-24 19:27:36.839    5.665 R_SMALL_MRES_MCAD_AR-Long-Term\n",
       "       EUI EUI-HRIEUV174-IMAGE    L2 2022-10-24 19:27:10.174 2022-10-24 19:27:11.824    5.659 R_SMALL_MRES_MCAD_AR-Long-Term\n",
       "       EUI EUI-HRIEUV174-IMAGE    L2 2022-10-24 19:26:45.174 2022-10-24 19:26:46.824    5.659 R_SMALL_MRES_MCAD_AR-Long-Term\n",
       "       EUI EUI-HRIEUV174-IMAGE    L2 2022-10-24 19:26:15.173 2022-10-24 19:26:16.823    5.628 R_SMALL_MRES_MCAD_AR-Long-Term\n",
       "       EUI EUI-HRIEUV174-IMAGE    L2 2022-10-24 19:25:55.174 2022-10-24 19:25:56.824    5.662 R_SMALL_MRES_MCAD_AR-Long-Term\n",
       "       EUI EUI-HRIEUV174-IMAGE    L2 2022-10-24 19:25:35.173 2022-10-24 19:25:36.823    5.662 R_SMALL_MRES_MCAD_AR-Long-Term\n",
       "       EUI EUI-HRIEUV174-IMAGE    L2 2022-10-24 19:25:10.173 2022-10-24 19:25:11.823    5.662 R_SMALL_MRES_MCAD_AR-Long-Term\n",
       "       EUI EUI-HRIEUV174-IMAGE    L2 2022-10-24 19:20:00.173 2022-10-24 19:20:01.823    5.547 R_SMALL_MRES_MCAD_AR-Long-Term\n",
       "       EUI EUI-HRIEUV174-IMAGE    L2 2022-10-24 19:24:45.173 2022-10-24 19:24:46.823    5.639 R_SMALL_MRES_MCAD_AR-Long-Term\n",
       "       ...                 ...   ...                     ...                     ...      ...                            ...\n",
       "       EUI EUI-HRIEUV174-IMAGE    L2 2022-10-24 19:28:25.173 2022-10-24 19:28:26.823    5.662 R_SMALL_MRES_MCAD_AR-Long-Term\n",
       "       EUI EUI-HRIEUV174-IMAGE    L2 2022-10-24 19:28:30.174 2022-10-24 19:28:31.824    5.679 R_SMALL_MRES_MCAD_AR-Long-Term\n",
       "       EUI EUI-HRIEUV174-IMAGE    L2 2022-10-24 19:26:20.173 2022-10-24 19:26:21.823    5.659 R_SMALL_MRES_MCAD_AR-Long-Term\n",
       "       EUI EUI-HRIEUV174-IMAGE    L2 2022-10-24 19:27:25.174 2022-10-24 19:27:26.824    5.659 R_SMALL_MRES_MCAD_AR-Long-Term\n",
       "       EUI EUI-HRIEUV174-IMAGE    L2 2022-10-24 19:28:35.174 2022-10-24 19:28:36.824    5.639 R_SMALL_MRES_MCAD_AR-Long-Term\n",
       "       EUI EUI-HRIEUV174-IMAGE    L2 2022-10-24 19:28:45.174 2022-10-24 19:28:46.824    5.659 R_SMALL_MRES_MCAD_AR-Long-Term\n",
       "       EUI EUI-HRIEUV174-IMAGE    L2 2022-10-24 19:28:50.174 2022-10-24 19:28:51.824    5.639 R_SMALL_MRES_MCAD_AR-Long-Term\n",
       "       EUI EUI-HRIEUV174-IMAGE    L2 2022-10-24 19:28:55.202 2022-10-24 19:28:56.852    5.665 R_SMALL_MRES_MCAD_AR-Long-Term\n",
       "       EUI EUI-HRIEUV174-IMAGE    L2 2022-10-24 19:29:00.174 2022-10-24 19:29:01.824    5.682 R_SMALL_MRES_MCAD_AR-Long-Term\n",
       "       EUI EUI-HRIEUV174-IMAGE    L2 2022-10-24 19:29:05.174 2022-10-24 19:29:06.824    5.665 R_SMALL_MRES_MCAD_AR-Long-Term\n",
       "       EUI EUI-HRIEUV174-IMAGE    L2 2022-10-24 19:29:15.174 2022-10-24 19:29:16.824    5.679 R_SMALL_MRES_MCAD_AR-Long-Term\n",
       "       EUI EUI-HRIEUV174-IMAGE    L2 2022-10-24 19:29:20.188 2022-10-24 19:29:21.838    5.679 R_SMALL_MRES_MCAD_AR-Long-Term\n",
       "       EUI EUI-HRIEUV174-IMAGE    L2 2022-10-24 19:29:25.174 2022-10-24 19:29:26.824    5.694 R_SMALL_MRES_MCAD_AR-Long-Term\n",
       "       EUI EUI-HRIEUV174-IMAGE    L2 2022-10-24 19:29:35.196 2022-10-24 19:29:36.846    5.697 R_SMALL_MRES_MCAD_AR-Long-Term\n",
       "       EUI EUI-HRIEUV174-IMAGE    L2 2022-10-24 19:29:45.174 2022-10-24 19:29:46.824    5.679 R_SMALL_MRES_MCAD_AR-Long-Term\n",
       "       EUI EUI-HRIEUV174-IMAGE    L2 2022-10-24 19:29:50.174 2022-10-24 19:29:51.824    5.639 R_SMALL_MRES_MCAD_AR-Long-Term\n",
       "       EUI EUI-HRIEUV174-IMAGE    L2 2022-10-24 19:29:40.206 2022-10-24 19:29:41.856    5.665 R_SMALL_MRES_MCAD_AR-Long-Term\n",
       "Length = 360 rows\n",
       "\n",
       "3 Results from the SOARClient:\n",
       "\n",
       "Instrument Data product Level        Start time               End time        Filesize           SOOP Name           \n",
       "                                                                               Mbyte                                 \n",
       "---------- ------------ ----- ----------------------- ----------------------- -------- ------------------------------\n",
       "     SPICE  SPICE-N-RAS    L2 2022-10-24 19:24:32.619 2022-10-24 19:35:51.017  116.715 R_SMALL_MRES_MCAD_AR-Long-Term\n",
       "     SPICE  SPICE-N-RAS    L2 2022-10-24 19:13:03.619 2022-10-24 19:24:22.015  116.715 R_SMALL_MRES_MCAD_AR-Long-Term\n",
       "     SPICE  SPICE-N-RAS    L2 2022-10-24 19:01:34.618 2022-10-24 19:12:53.014  116.715 R_SMALL_MRES_MCAD_AR-Long-Term\n"
      ]
     },
     "execution_count": 44,
     "metadata": {},
     "output_type": "execute_result"
    }
   ],
   "source": [
    "q"
   ]
  },
  {
   "cell_type": "markdown",
   "metadata": {},
   "source": [
    "### DKIST"
   ]
  },
  {
   "cell_type": "code",
   "execution_count": 45,
   "metadata": {
    "tags": []
   },
   "outputs": [],
   "source": [
    "dkist_query = time_range & attrs.Instrument('VISP')"
   ]
  },
  {
   "cell_type": "code",
   "execution_count": 46,
   "metadata": {
    "tags": []
   },
   "outputs": [
    {
     "data": {
      "text/html": [
       "Results from 1 Provider:</br></br>0 Results from the DKISTClient:</br><div><i>DKISTQueryResponseTable length=0</i>\n",
       "<No columns></div></br>"
      ],
      "text/plain": [
       "<sunpy.net.fido_factory.UnifiedResponse object at 0x16925f490>\n",
       "Results from 1 Provider:\n",
       "\n",
       "0 Results from the DKISTClient:\n",
       "\n",
       "<No columns>\n"
      ]
     },
     "execution_count": 46,
     "metadata": {},
     "output_type": "execute_result"
    }
   ],
   "source": [
    "Fido.search(dkist_query)"
   ]
  },
  {
   "cell_type": "code",
   "execution_count": null,
   "metadata": {},
   "outputs": [],
   "source": []
  }
 ],
 "metadata": {
  "kernelspec": {
   "display_name": "Python [conda env:spd-2023-sunpy-demo]",
   "language": "python",
   "name": "conda-env-spd-2023-sunpy-demo-py"
  },
  "language_info": {
   "codemirror_mode": {
    "name": "ipython",
    "version": 3
   },
   "file_extension": ".py",
   "mimetype": "text/x-python",
   "name": "python",
   "nbconvert_exporter": "python",
   "pygments_lexer": "ipython3",
   "version": "3.11.4"
  }
 },
 "nbformat": 4,
 "nbformat_minor": 4
}
