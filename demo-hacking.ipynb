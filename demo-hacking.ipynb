{
 "cells": [
  {
   "cell_type": "code",
   "execution_count": 2,
   "metadata": {},
   "outputs": [
    {
     "name": "stderr",
     "output_type": "stream",
     "text": [
      "/home/codespace/.python/current/lib/python3.10/site-packages/tqdm/auto.py:21: TqdmWarning: IProgress not found. Please update jupyter and ipywidgets. See https://ipywidgets.readthedocs.io/en/stable/user_install.html\n",
      "  from .autonotebook import tqdm as notebook_tqdm\n"
     ]
    }
   ],
   "source": [
    "from sunpy.net import Fido, attrs as attrs\n",
    "import dkist.net\n",
    "import sunpy_soar"
   ]
  },
  {
   "cell_type": "code",
   "execution_count": 3,
   "metadata": {},
   "outputs": [],
   "source": [
    "q = Fido.search(\n",
    "    attrs.Time(\"2022-10-24T18:30\", \"2022-10-24T22:20\"),\n",
    "    attrs.Instrument.aia,\n",
    ")"
   ]
  },
  {
   "cell_type": "code",
   "execution_count": 4,
   "metadata": {},
   "outputs": [
    {
     "data": {
      "text/html": [
       "Results from 1 Provider:</br></br>219 Results from the VSOClient:</br><div><i>VSOQueryResponseTable length=219</i>\n",
       "<table id=\"table139833419689520\" class=\"table-striped table-bordered table-condensed\">\n",
       "<thead><tr><th>Start Time</th><th>End Time</th><th>Source</th><th>Instrument</th><th>Wavelength</th><th>Provider</th><th>Physobs</th><th>Wavetype</th><th>Extent Width</th><th>Extent Length</th><th>Extent Type</th><th>Size</th><th>Extra Flags</th></tr></thead>\n",
       "<thead><tr><th></th><th></th><th></th><th></th><th>Angstrom</th><th></th><th></th><th></th><th></th><th></th><th></th><th>Mibyte</th><th></th></tr></thead>\n",
       "<thead><tr><th>Time</th><th>Time</th><th>str3</th><th>str3</th><th>float64[2]</th><th>str4</th><th>str9</th><th>str6</th><th>str4</th><th>str4</th><th>str8</th><th>float64</th><th>str1</th></tr></thead>\n",
       "<tr><td>2022-10-24 18:30:00.000</td><td>2022-10-24 18:39:13.000</td><td>SDO</td><td>AIA</td><td>335.0 .. 335.0</td><td>JSOC</td><td>intensity</td><td>NARROW</td><td>4096</td><td>4096</td><td>FULLDISK</td><td>3038.47656</td><td>S</td></tr>\n",
       "<tr><td>2022-10-24 18:30:04.000</td><td>2022-10-24 18:39:17.000</td><td>SDO</td><td>AIA</td><td>193.0 .. 193.0</td><td>JSOC</td><td>intensity</td><td>NARROW</td><td>4096</td><td>4096</td><td>FULLDISK</td><td>3038.47656</td><td>S</td></tr>\n",
       "<tr><td>2022-10-24 18:30:04.000</td><td>2022-10-24 18:39:17.000</td><td>SDO</td><td>AIA</td><td>1700.0 .. 1700.0</td><td>JSOC</td><td>intensity</td><td>NARROW</td><td>4096</td><td>4096</td><td>FULLDISK</td><td>1551.5625</td><td>S</td></tr>\n",
       "<tr><td>2022-10-24 18:30:05.000</td><td>2022-10-24 18:39:18.000</td><td>SDO</td><td>AIA</td><td>304.0 .. 304.0</td><td>JSOC</td><td>intensity</td><td>NARROW</td><td>4096</td><td>4096</td><td>FULLDISK</td><td>3038.47656</td><td>S</td></tr>\n",
       "<tr><td>2022-10-24 18:30:06.000</td><td>2022-10-24 18:39:19.000</td><td>SDO</td><td>AIA</td><td>131.0 .. 131.0</td><td>JSOC</td><td>intensity</td><td>NARROW</td><td>4096</td><td>4096</td><td>FULLDISK</td><td>3038.47656</td><td>S</td></tr>\n",
       "<tr><td>2022-10-24 18:30:09.000</td><td>2022-10-24 18:39:22.000</td><td>SDO</td><td>AIA</td><td>171.0 .. 171.0</td><td>JSOC</td><td>intensity</td><td>NARROW</td><td>4096</td><td>4096</td><td>FULLDISK</td><td>3038.47656</td><td>S</td></tr>\n",
       "<tr><td>2022-10-24 18:30:09.000</td><td>2022-10-24 18:39:10.000</td><td>SDO</td><td>AIA</td><td>211.0 .. 211.0</td><td>JSOC</td><td>intensity</td><td>NARROW</td><td>4096</td><td>4096</td><td>FULLDISK</td><td>2973.82812</td><td>S</td></tr>\n",
       "<tr><td>2022-10-24 18:30:11.000</td><td>2022-10-24 18:39:12.000</td><td>SDO</td><td>AIA</td><td>94.0 .. 94.0</td><td>JSOC</td><td>intensity</td><td>NARROW</td><td>4096</td><td>4096</td><td>FULLDISK</td><td>2973.82812</td><td>S</td></tr>\n",
       "<tr><td>2022-10-24 18:30:14.000</td><td>2022-10-24 18:39:03.000</td><td>SDO</td><td>AIA</td><td>1600.0 .. 1600.0</td><td>JSOC</td><td>intensity</td><td>NARROW</td><td>4096</td><td>4096</td><td>FULLDISK</td><td>1486.91406</td><td>S</td></tr>\n",
       "<tr><td>...</td><td>...</td><td>...</td><td>...</td><td>...</td><td>...</td><td>...</td><td>...</td><td>...</td><td>...</td><td>...</td><td>...</td><td>...</td></tr>\n",
       "<tr><td>2022-10-24 22:09:40.000</td><td>2022-10-24 22:19:17.000</td><td>SDO</td><td>AIA</td><td>1700.0 .. 1700.0</td><td>JSOC</td><td>intensity</td><td>NARROW</td><td>4096</td><td>4096</td><td>FULLDISK</td><td>1616.21094</td><td>S</td></tr>\n",
       "<tr><td>2022-10-24 22:19:21.000</td><td>2022-10-24 22:19:58.000</td><td>SDO</td><td>AIA</td><td>211.0 .. 211.0</td><td>JSOC</td><td>intensity</td><td>NARROW</td><td>4096</td><td>4096</td><td>FULLDISK</td><td>258.59375</td><td>S</td></tr>\n",
       "<tr><td>2022-10-24 22:19:23.000</td><td>2022-10-24 22:20:00.000</td><td>SDO</td><td>AIA</td><td>94.0 .. 94.0</td><td>JSOC</td><td>intensity</td><td>NARROW</td><td>4096</td><td>4096</td><td>FULLDISK</td><td>258.59375</td><td>S</td></tr>\n",
       "<tr><td>2022-10-24 22:19:24.000</td><td>2022-10-24 22:20:01.000</td><td>SDO</td><td>AIA</td><td>335.0 .. 335.0</td><td>JSOC</td><td>intensity</td><td>NARROW</td><td>4096</td><td>4096</td><td>FULLDISK</td><td>258.59375</td><td>S</td></tr>\n",
       "<tr><td>2022-10-24 22:19:26.000</td><td>2022-10-24 22:19:51.000</td><td>SDO</td><td>AIA</td><td>1600.0 .. 1600.0</td><td>JSOC</td><td>intensity</td><td>NARROW</td><td>4096</td><td>4096</td><td>FULLDISK</td><td>129.29688</td><td>S</td></tr>\n",
       "<tr><td>2022-10-24 22:19:28.000</td><td>2022-10-24 22:19:53.000</td><td>SDO</td><td>AIA</td><td>193.0 .. 193.0</td><td>JSOC</td><td>intensity</td><td>NARROW</td><td>4096</td><td>4096</td><td>FULLDISK</td><td>193.94531</td><td>S</td></tr>\n",
       "<tr><td>2022-10-24 22:19:29.000</td><td>2022-10-24 22:19:54.000</td><td>SDO</td><td>AIA</td><td>304.0 .. 304.0</td><td>JSOC</td><td>intensity</td><td>NARROW</td><td>4096</td><td>4096</td><td>FULLDISK</td><td>193.94531</td><td>S</td></tr>\n",
       "<tr><td>2022-10-24 22:19:30.000</td><td>2022-10-24 22:19:55.000</td><td>SDO</td><td>AIA</td><td>131.0 .. 131.0</td><td>JSOC</td><td>intensity</td><td>NARROW</td><td>4096</td><td>4096</td><td>FULLDISK</td><td>193.94531</td><td>S</td></tr>\n",
       "<tr><td>2022-10-24 22:19:33.000</td><td>2022-10-24 22:19:58.000</td><td>SDO</td><td>AIA</td><td>171.0 .. 171.0</td><td>JSOC</td><td>intensity</td><td>NARROW</td><td>4096</td><td>4096</td><td>FULLDISK</td><td>193.94531</td><td>S</td></tr>\n",
       "<tr><td>2022-10-24 22:19:40.000</td><td>2022-10-24 22:19:41.000</td><td>SDO</td><td>AIA</td><td>1700.0 .. 1700.0</td><td>JSOC</td><td>intensity</td><td>NARROW</td><td>4096</td><td>4096</td><td>FULLDISK</td><td>64.64844</td><td>S</td></tr>\n",
       "</table></div></br>"
      ],
      "text/plain": [
       "<sunpy.net.fido_factory.UnifiedResponse object at 0x7f2d819a61a0>\n",
       "Results from 1 Provider:\n",
       "\n",
       "219 Results from the VSOClient:\n",
       "Source: http://vso.stanford.edu/cgi-bin/search\n",
       "Total estimated size: 623.725 Gbyte\n",
       "\n",
       "       Start Time               End Time        ...    Size    Extra Flags\n",
       "                                                ...   Mibyte              \n",
       "----------------------- ----------------------- ... ---------- -----------\n",
       "2022-10-24 18:30:00.000 2022-10-24 18:39:13.000 ... 3038.47656           S\n",
       "2022-10-24 18:30:04.000 2022-10-24 18:39:17.000 ... 3038.47656           S\n",
       "2022-10-24 18:30:04.000 2022-10-24 18:39:17.000 ...  1551.5625           S\n",
       "2022-10-24 18:30:05.000 2022-10-24 18:39:18.000 ... 3038.47656           S\n",
       "2022-10-24 18:30:06.000 2022-10-24 18:39:19.000 ... 3038.47656           S\n",
       "2022-10-24 18:30:09.000 2022-10-24 18:39:22.000 ... 3038.47656           S\n",
       "2022-10-24 18:30:09.000 2022-10-24 18:39:10.000 ... 2973.82812           S\n",
       "2022-10-24 18:30:11.000 2022-10-24 18:39:12.000 ... 2973.82812           S\n",
       "2022-10-24 18:30:14.000 2022-10-24 18:39:03.000 ... 1486.91406           S\n",
       "2022-10-24 18:39:21.000 2022-10-24 18:49:10.000 ... 3232.42188           S\n",
       "                    ...                     ... ...        ...         ...\n",
       "2022-10-24 22:09:40.000 2022-10-24 22:19:17.000 ... 1616.21094           S\n",
       "2022-10-24 22:19:21.000 2022-10-24 22:19:58.000 ...  258.59375           S\n",
       "2022-10-24 22:19:23.000 2022-10-24 22:20:00.000 ...  258.59375           S\n",
       "2022-10-24 22:19:24.000 2022-10-24 22:20:01.000 ...  258.59375           S\n",
       "2022-10-24 22:19:26.000 2022-10-24 22:19:51.000 ...  129.29688           S\n",
       "2022-10-24 22:19:28.000 2022-10-24 22:19:53.000 ...  193.94531           S\n",
       "2022-10-24 22:19:29.000 2022-10-24 22:19:54.000 ...  193.94531           S\n",
       "2022-10-24 22:19:30.000 2022-10-24 22:19:55.000 ...  193.94531           S\n",
       "2022-10-24 22:19:33.000 2022-10-24 22:19:58.000 ...  193.94531           S\n",
       "2022-10-24 22:19:40.000 2022-10-24 22:19:41.000 ...   64.64844           S\n",
       "Length = 219 rows\n"
      ]
     },
     "execution_count": 4,
     "metadata": {},
     "output_type": "execute_result"
    }
   ],
   "source": [
    "q"
   ]
  },
  {
   "cell_type": "code",
   "execution_count": null,
   "metadata": {},
   "outputs": [],
   "source": []
  }
 ],
 "metadata": {
  "kernelspec": {
   "display_name": "Python 3",
   "language": "python",
   "name": "python3"
  },
  "language_info": {
   "codemirror_mode": {
    "name": "ipython",
    "version": 3
   },
   "file_extension": ".py",
   "mimetype": "text/x-python",
   "name": "python",
   "nbconvert_exporter": "python",
   "pygments_lexer": "ipython3",
   "version": "3.10.8"
  },
  "orig_nbformat": 4
 },
 "nbformat": 4,
 "nbformat_minor": 2
}
